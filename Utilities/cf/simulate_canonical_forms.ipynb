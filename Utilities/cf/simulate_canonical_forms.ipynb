{
 "cells": [
  {
   "cell_type": "markdown",
   "id": "7e999e6d",
   "metadata": {},
   "source": [
    "# Simulate canonical forms\n",
    "\n",
    "We only simulate computation of CF on $k\\times (n-k)$ matrices"
   ]
  },
  {
   "cell_type": "markdown",
   "id": "0887b3ec",
   "metadata": {},
   "source": [
    "Choose parameters: $q$, $k$ and $n$"
   ]
  },
  {
   "cell_type": "code",
   "execution_count": 1,
   "id": "83e4e60c",
   "metadata": {},
   "outputs": [
    {
     "ename": "NameError",
     "evalue": "name 'GF' is not defined",
     "output_type": "error",
     "traceback": [
      "\u001b[0;31m---------------------------------------------------------------------------\u001b[0m",
      "\u001b[0;31mNameError\u001b[0m                                 Traceback (most recent call last)",
      "Cell \u001b[0;32mIn[1], line 5\u001b[0m\n\u001b[1;32m      2\u001b[0m k \u001b[38;5;241m=\u001b[39m \u001b[38;5;241m3\u001b[39m\n\u001b[1;32m      3\u001b[0m n \u001b[38;5;241m=\u001b[39m \u001b[38;5;241m7\u001b[39m\n\u001b[0;32m----> 5\u001b[0m Fq \u001b[38;5;241m=\u001b[39m \u001b[43mGF\u001b[49m(q)\n",
      "\u001b[0;31mNameError\u001b[0m: name 'GF' is not defined"
     ]
    }
   ],
   "source": [
    "q = 5\n",
    "k = 3\n",
    "n = 7\n",
    "\n",
    "Fq = GF(q)"
   ]
  },
  {
   "cell_type": "markdown",
   "id": "5d4b33f5",
   "metadata": {},
   "source": [
    "# Case 3\n",
    "\n",
    "We sample a random matrix $\\mathbf A\\in \\mathbb F_q^{k\\times(n-k)}$, then sample:\n",
    "\n",
    "- a permutation matrix $\\mathbf P_r\\in S_k$\n",
    "\n",
    "- a permutation matrix $\\mathbf P_c\\in S_{n-k}$\n",
    "\n",
    "We set $\\mathbf A' = \\mathbf P_r\\cdot \\mathbf A \\cdot \\mathbf P_c$ and verify that\n",
    "\n",
    "$\\mathsf{CF}(\\mathbf A) = \\mathsf{CF}(\\mathbf A')$"
   ]
  },
  {
   "cell_type": "code",
   "execution_count": 59,
   "id": "459964a4",
   "metadata": {},
   "outputs": [],
   "source": [
    "#Works only if q is a prime\n",
    "#Returns the index corresponding to the minimum multiset\n",
    "#Return -1 if the multisets are the same\n",
    "def lex_min_multisets(a_multiset, b_multiset):\n",
    "    \n",
    "    for i in range(len(a_multiset)):\n",
    "        if a_multiset[i] < b_multiset[i]:\n",
    "            return 0\n",
    "        else:\n",
    "            if a_multiset[i] > b_multiset[i]:\n",
    "                return 1\n",
    "            \n",
    "    #At this point, this means the two multisets are the same: return -1\n",
    "    return -1\n",
    "\n",
    "#Works only if q is a prime\n",
    "#Returns the index corresponding to the minimum multiset\n",
    "#If the vectors are the same, return the first one by default\n",
    "def lex_min_vectors(a_multiset, b_multiset):\n",
    "    \n",
    "    for i in range(len(a_multiset)):\n",
    "        if a_multiset[i] < b_multiset[i]:\n",
    "            return 0\n",
    "        else:\n",
    "            if a_multiset[i] > b_multiset[i]:\n",
    "                return 1\n",
    "            \n",
    "    #At this point, this means the two multisets are the same: return 0\n",
    "    return 0\n",
    "\n",
    "#Sort multisets using lexicograph ordering\n",
    "#Raises an error if, at some point, the multisets are equal\n",
    "#The function returns the permutation sorting rows\n",
    "def sort_multisets(row_multisets):\n",
    "    \n",
    "    #Representation of permutation as list of indices\n",
    "    indices = [i for i in range(len(row_multisets))]\n",
    "    \n",
    "    swap = True\n",
    "    while swap: #Loop until swap is true\n",
    "        \n",
    "        swap = False\n",
    "        for i in range(len(row_multisets)-1):\n",
    "\n",
    "            min_index = lex_min_multisets(row_multisets[i], row_multisets[i+1]) #lex ordering of multisets\n",
    "     \n",
    "            \n",
    "            #Report failure if min_index == -1\n",
    "            if min_index == -1:\n",
    "                return -1\n",
    "            \n",
    "            #Swap elements, if needed\n",
    "            if min_index == 1:\n",
    "\n",
    "                swap = True #specify that a swap was done\n",
    "                    \n",
    "                #Swap multisets\n",
    "                tmp = row_multisets[i+1]\n",
    "                row_multisets[i+1] = row_multisets[i]\n",
    "                row_multisets[i] = tmp\n",
    "                \n",
    "                #Swap indices\n",
    "                tmp = indices[i+1]\n",
    "                indices[i+1] = indices[i]\n",
    "                indices[i] = tmp\n",
    "                \n",
    "    return indices\n",
    "\n",
    "#Sort vectors using lexicograph ordering\n",
    "#The function returns the permutation sorting columns\n",
    "def sort_vectors(vectors):\n",
    "    \n",
    "    #Representation of permutation as list of indices\n",
    "    indices = [i for i in range(len(vectors))]\n",
    "    \n",
    "    swap = True\n",
    "    while swap: #Loop until swap is true\n",
    "        \n",
    "        swap = False\n",
    "        for i in range(len(vectors)-1):\n",
    "            min_index = lex_min_vectors(vectors[i], vectors[i+1]) #lex ordering of vectors\n",
    "                        \n",
    "            #Swap elements, if needed\n",
    "            if min_index == 1:\n",
    "\n",
    "                swap = True #specify that a swap was done\n",
    "                    \n",
    "                #Swap multisets\n",
    "                tmp = vectors[i+1]\n",
    "                vectors[i+1] = vectors[i]\n",
    "                vectors[i] = tmp\n",
    "                \n",
    "                #Swap indices\n",
    "                tmp = indices[i+1]\n",
    "                indices[i+1] = indices[i]\n",
    "                indices[i] = tmp\n",
    "                \n",
    "    return indices\n",
    "\n",
    "#To order rows and columns, we use a schoolbook algorithm with cost O(n^2)\n",
    "#The code works only if q is prime\n",
    "def case_3_CF(B):\n",
    "    \n",
    "    Fq = B[0,0].parent()\n",
    "        \n",
    "    #Compute multisets of rows\n",
    "    row_multisets = []\n",
    "    for i in range(B.nrows()):\n",
    "        b_i = B[i,:].change_ring(ZZ).list()\n",
    "        b_i.sort()\n",
    "        row_multisets.append(b_i)\n",
    "\n",
    "    #Compute row permutation sorting rows \n",
    "    row_indices = sort_multisets(row_multisets)\n",
    "    \n",
    "    #Report failure if row permutation is not defined\n",
    "    if row_indices == -1:\n",
    "        return -1, -1, -1\n",
    "    \n",
    "    #Apply row permutation\n",
    "    row_sorted_B = matrix(Fq, B.nrows(), B.ncols())\n",
    "    for i in range(len(row_indices)):\n",
    "        row_sorted_B[i,:] = B[jjj[i],:]\n",
    "    \n",
    "    #Now, sort columns\n",
    "    vectors = [row_sorted_B[:,i].list() for i in range(B.ncols())]\n",
    "    \n",
    "    #Compute permutation sorting columns\n",
    "    col_indices = sort_vectors(vectors)\n",
    "    \n",
    "    #Apply column permutation\n",
    "    CF_B = matrix(Fq, B.nrows(), B.ncols())\n",
    "    for i in range(len(col_indices)):\n",
    "        CF_B[:,i] = row_sorted_B[:,col_indices[i]]\n",
    "        \n",
    "    return row_indices, col_indices, CF_B"
   ]
  },
  {
   "cell_type": "markdown",
   "id": "4fc37c79",
   "metadata": {},
   "source": [
    "Generate matrices"
   ]
  },
  {
   "cell_type": "code",
   "execution_count": 65,
   "id": "afa16682",
   "metadata": {},
   "outputs": [
    {
     "name": "stdout",
     "output_type": "stream",
     "text": [
      "A =\n",
      "[0 1 1 1]\n",
      "[2 0 1 2]\n",
      "[2 1 0 0]\n",
      " \n",
      "A' =\n",
      "[0 1 1 1]\n",
      "[2 1 0 2]\n",
      "[2 0 1 0]\n"
     ]
    }
   ],
   "source": [
    "A = random_matrix(Fq, k, n-k)\n",
    "\n",
    "#Sample permutations\n",
    "Pr = Permutations(k).random_element().to_matrix().change_ring(Fq)\n",
    "Pc = Permutations(n-k).random_element().to_matrix().change_ring(Fq)\n",
    "\n",
    "A_prime = Pr*A*Pc\n",
    "print(\"A =\")\n",
    "print(A)\n",
    "print(\" \")\n",
    "print(\"A' =\")\n",
    "print(A_prime)"
   ]
  },
  {
   "cell_type": "markdown",
   "id": "e1d888cc",
   "metadata": {},
   "source": [
    "Compute canonical forms, showing step-by-step operations"
   ]
  },
  {
   "cell_type": "code",
   "execution_count": 66,
   "id": "9089bc2f",
   "metadata": {},
   "outputs": [
    {
     "name": "stdout",
     "output_type": "stream",
     "text": [
      "CF(A) = \n",
      "[0 0 1 2]\n",
      "[1 1 1 0]\n",
      "[1 2 0 2]\n",
      "  \n",
      "Showing step-by-step operations:\n",
      " \n",
      "1) Row permutation = \n",
      "[2, 0, 1]\n",
      " \n",
      "2) Applying row permutation to A\n",
      "[2 1 0 0]\n",
      "[0 1 1 1]\n",
      "[2 0 1 2]\n",
      " \n",
      "3) Column permutation = \n",
      "[2, 3, 1, 0]\n",
      " \n",
      "4) Applying also column permutation\n",
      "[0 0 1 2]\n",
      "[1 1 1 0]\n",
      "[1 2 0 2]\n"
     ]
    }
   ],
   "source": [
    "row_perm, col_perm, CF_A = case_3_CF(A)\n",
    "if row_perm == -1:\n",
    "    print(\"CF(A) is not well defined!\")\n",
    "else:\n",
    "    print(\"CF(A) = \")\n",
    "    print(CF_A)\n",
    "\n",
    "    print(\"  \")\n",
    "\n",
    "    print(\"Showing step-by-step operations:\")\n",
    "    print(\" \")\n",
    "\n",
    "    print(\"1) Row permutation = \")\n",
    "    print(row_perm)\n",
    "    print(\" \")\n",
    "\n",
    "    #Construct permutation matrix out of row_perm\n",
    "    S_k = Permutations(k)\n",
    "    Pr = S_k([row_perm[i]+1 for i in range(k)])\n",
    "    print(\"2) Applying row permutation to A\")\n",
    "    print(Pr.to_matrix().transpose()*A)\n",
    "    print(\" \")\n",
    "\n",
    "    print(\"3) Column permutation = \")\n",
    "    print(col_perm)\n",
    "    print(\" \")\n",
    "\n",
    "    #Construct permutation matrix out of row_perm\n",
    "    S_n_minus_k = Permutations(n-k)\n",
    "    Pc = S_n_minus_k([col_perm[i]+1 for i in range(n-k)])\n",
    "    print(\"4) Applying also column permutation\")\n",
    "    print(Pr.to_matrix().transpose()*A*Pc.to_matrix())"
   ]
  },
  {
   "cell_type": "markdown",
   "id": "910821a6",
   "metadata": {},
   "source": [
    "Now, do the same to $\\mathbf A'$ and verify the canonical forms are equal"
   ]
  },
  {
   "cell_type": "code",
   "execution_count": 67,
   "id": "0e7d9f3a",
   "metadata": {},
   "outputs": [
    {
     "name": "stdout",
     "output_type": "stream",
     "text": [
      "CF(A') = \n",
      "[0 0 1 2]\n",
      "[1 1 1 0]\n",
      "[1 2 0 2]\n",
      " \n",
      "CF(A) == CF(A')? True\n"
     ]
    }
   ],
   "source": [
    "row_perm_prime, col_perm_prime, CF_A_prime = case_3_CF(A_prime)\n",
    "print(\"CF(A') = \")\n",
    "print(CF_A_prime)\n",
    "print(\" \")\n",
    "\n",
    "print(\"CF(A) == CF(A')?\", CF_A == CF_A_prime)"
   ]
  },
  {
   "cell_type": "markdown",
   "id": "89758356",
   "metadata": {},
   "source": [
    "# Case 4 (to be done)"
   ]
  },
  {
   "cell_type": "code",
   "execution_count": 119,
   "id": "d98f5aba",
   "metadata": {},
   "outputs": [
    {
     "name": "stdout",
     "output_type": "stream",
     "text": [
      "2 2\n",
      "---> =  3\n",
      "0 1\n",
      "---> =  1\n",
      "3 2\n",
      "---> =  2\n"
     ]
    }
   ],
   "source": [
    "A_prime = copy(A)\n",
    "for i in range(k):\n",
    "    s = sum(A[i,j] for j in range(n-k))\n",
    "    s_prime = sum(A[i,j]^(q-2) for j in range(n-k))\n",
    "    print(s, s_prime)\n",
    "    if s != 0:\n",
    "        A_prime[i,:] = s^-1*A_prime[i,:]\n",
    "        print(\"---> = \", s^-1)\n",
    "    else:\n",
    "        if s_prime != 0:\n",
    "            A_prime[i,:] = s_prime*A_prime[i,:]\n",
    "            print(\"---> = \", s_prime)\n",
    "        else:\n",
    "            print(\"!!! ERROR !!!\")"
   ]
  },
  {
   "cell_type": "code",
   "execution_count": 120,
   "id": "0e8c7577",
   "metadata": {},
   "outputs": [
    {
     "name": "stdout",
     "output_type": "stream",
     "text": [
      "0 1\n",
      "---> =  1\n",
      "3 3\n",
      "---> =  2\n",
      "4 4\n",
      "---> =  4\n"
     ]
    }
   ],
   "source": [
    "tilde_A_prime = copy(tilde_A)\n",
    "for i in range(k):\n",
    "    s = sum(tilde_A[i,j] for j in range(n-k))\n",
    "    s_prime = sum(tilde_A[i,j]^(q-2) for j in range(n-k))\n",
    "    print(s, s_prime)\n",
    "    if s != 0:\n",
    "        tilde_A_prime[i,:] = s^-1*tilde_A_prime[i,:]\n",
    "        print(\"---> = \", s^-1)\n",
    "    else:\n",
    "        if s_prime != 0:\n",
    "            tilde_A_prime[i,:] = s_prime*tilde_A_prime[i,:]\n",
    "            print(\"---> = \", s_prime)\n",
    "        else:\n",
    "            print(\"!!! ERROR !!!\")"
   ]
  },
  {
   "cell_type": "code",
   "execution_count": 121,
   "id": "3dd5fd8a",
   "metadata": {},
   "outputs": [
    {
     "name": "stdout",
     "output_type": "stream",
     "text": [
      "A_prime = :\n",
      "[1 4 3 3]\n",
      "[2 1 1 1]\n",
      "[2 0 1 3]\n",
      " \n",
      "tilde_A_prime = :\n",
      "[1 1 1 2]\n",
      "[3 4 3 1]\n",
      "[1 0 3 2]\n",
      " \n",
      "Are perms ok? True\n"
     ]
    }
   ],
   "source": [
    "print(\"A_prime = :\")\n",
    "print(A_prime)\n",
    "print(\" \")\n",
    "print(\"tilde_A_prime = :\")\n",
    "print(tilde_A_prime)\n",
    "print(\" \")\n",
    "\n",
    "print(\"Are perms ok?\",Pr*A_prime*Pc == tilde_A_prime)"
   ]
  },
  {
   "cell_type": "code",
   "execution_count": null,
   "id": "d0908cba",
   "metadata": {},
   "outputs": [],
   "source": [
    "A = random_matrix(Fq, k, n-k)\n",
    "\n",
    "#sampling diagonal and monomial\n",
    "Dr = matrix(Fq, k, k)\n",
    "for i in range(k):\n",
    "    a = Fq.random_element()\n",
    "    while a == 0:\n",
    "        a = Fq.random_element()\n",
    "    Dr[i,i] = a\n",
    "Pr = Permutations(k).random_element().to_matrix().change_ring(Fq)\n",
    "Pc = Permutations(n-k).random_element().to_matrix().change_ring(Fq)\n",
    "\n",
    "tilde_A = Pr*Dr*A*Pc\n",
    "print(\"A =\")\n",
    "print(A)\n",
    "print(\" \")\n",
    "print(\"tilde_A =\")\n",
    "print(tilde_A)"
   ]
  }
 ],
 "metadata": {
  "kernelspec": {
   "display_name": "Python 3 (ipykernel)",
   "language": "python",
   "name": "python3"
  },
  "language_info": {
   "codemirror_mode": {
    "name": "ipython",
    "version": 3
   },
   "file_extension": ".py",
   "mimetype": "text/x-python",
   "name": "python",
   "nbconvert_exporter": "python",
   "pygments_lexer": "ipython3",
   "version": "3.11.9"
  }
 },
 "nbformat": 4,
 "nbformat_minor": 5
}
